{
  "cells": [
    {
      "cell_type": "code",
      "execution_count": null,
      "metadata": {
        "collapsed": false
      },
      "outputs": [],
      "source": [
        "%matplotlib inline"
      ]
    },
    {
      "cell_type": "markdown",
      "metadata": {},
      "source": [
        "\nExporting a Model from PyTorch to ONNX and Running it using ONNXRuntime\n=======================================================================\n\nIn this tutorial, we describe how to convert a model defined\nin PyTorch into the ONNX format and then run it with ONNXRuntime. \n\nONNXRuntime is a performance-focused engine for ONNX models,\nwhich inferences efficiently across multiple platforms and hardware\n(Windows, Linux, and Mac and on both CPUs and GPUs).\nONNXRuntime has proved to considerably increase performance over\nmultiple models as explained `here\n<https://cloudblogs.microsoft.com/opensource/2019/05/22/onnx-runtime-machine-learning-inferencing-0-4-release>`__\n\nFor this tutorial, you will need to install `onnx <https://github.com/onnx/onnx>`__\nand `onnxruntime <https://github.com/microsoft/onnxruntime>`__.\nYou can get binary builds of onnx and onnxrunimte with\n``pip install onnx onnxruntime``.\nNote that ONNXRuntime is compatible with Python versions 3.5 to 3.7.\n\n``NOTE``: This tutorial needs PyTorch master branch which can be installed by following\nthe instructions `here <https://github.com/pytorch/pytorch#from-source>`__\n\n\n"
      ]
    },
    {
      "cell_type": "code",
      "execution_count": null,
      "metadata": {
        "collapsed": false
      },
      "outputs": [],
      "source": [
        "# Some standard imports\nimport io\nimport numpy as np\n\nfrom torch import nn\nimport torch.utils.model_zoo as model_zoo\nimport torch.onnx"
      ]
    },
    {
      "cell_type": "markdown",
      "metadata": {},
      "source": [
        "Super-resolution is a way of increasing the resolution of images, videos\nand is widely used in image processing or video editing. For this\ntutorial, we will use a small super-resolution model.\n\nFirst, let's create a SuperResolution model in PyTorch. \nThis model uses the efficient sub-pixel convolution layer described in\n`\"Real-Time Single Image and Video Super-Resolution Using an Efficient\nSub-Pixel Convolutional Neural Network\" - Shi et al <https://arxiv.org/abs/1609.05158>`__\nfor increasing the resolution of an image by an upscale factor.\nThe model expects the Y component of the YCbCr of an image as an input, and\noutputs the upscaled Y component in super resolution. \n\n`The\nmodel <https://github.com/pytorch/examples/blob/master/super_resolution/model.py>`__\ncomes directly from PyTorch's examples without modification:\n\n\n"
      ]
    },
    {
      "cell_type": "code",
      "execution_count": null,
      "metadata": {
        "collapsed": false
      },
      "outputs": [],
      "source": [
        "# Super Resolution model definition in PyTorch\nimport torch.nn as nn\nimport torch.nn.init as init\n\n\nclass SuperResolutionNet(nn.Module):\n    def __init__(self, upscale_factor, inplace=False):\n        super(SuperResolutionNet, self).__init__()\n\n        self.relu = nn.ReLU(inplace=inplace)\n        self.conv1 = nn.Conv2d(1, 64, (5, 5), (1, 1), (2, 2))\n        self.conv2 = nn.Conv2d(64, 64, (3, 3), (1, 1), (1, 1))\n        self.conv3 = nn.Conv2d(64, 32, (3, 3), (1, 1), (1, 1))\n        self.conv4 = nn.Conv2d(32, upscale_factor ** 2, (3, 3), (1, 1), (1, 1))\n        self.pixel_shuffle = nn.PixelShuffle(upscale_factor)\n\n        self._initialize_weights()\n\n    def forward(self, x):\n        x = self.relu(self.conv1(x))\n        x = self.relu(self.conv2(x))\n        x = self.relu(self.conv3(x))\n        x = self.pixel_shuffle(self.conv4(x))\n        return x\n\n    def _initialize_weights(self):\n        init.orthogonal_(self.conv1.weight, init.calculate_gain('relu'))\n        init.orthogonal_(self.conv2.weight, init.calculate_gain('relu'))\n        init.orthogonal_(self.conv3.weight, init.calculate_gain('relu'))\n        init.orthogonal_(self.conv4.weight)\n\n# Create the super-resolution model by using the above model definition.\ntorch_model = SuperResolutionNet(upscale_factor=3)"
      ]
    },
    {
      "cell_type": "markdown",
      "metadata": {},
      "source": [
        "Ordinarily, you would now train this model; however, for this tutorial,\nwe will instead download some pre-trained weights. Note that this model\nwas not trained fully for good accuracy and is used here for\ndemonstration purposes only.\n\nIt is important to call ``torch_model.eval()`` or ``torch_model.train(False)``\nbefore exporting the model, to turn the model to inference mode.\nThis is required since operators like dropout or batchnorm behave\ndifferently in inference and training mode. \n\n\n"
      ]
    },
    {
      "cell_type": "code",
      "execution_count": null,
      "metadata": {
        "collapsed": false
      },
      "outputs": [],
      "source": [
        "# Load pretrained model weights\nmodel_url = 'https://s3.amazonaws.com/pytorch/test_data/export/superres_epoch100-44c6958e.pth'\nbatch_size = 1    # just a random number\n\n# Initialize model with the pretrained weights\nmap_location = lambda storage, loc: storage\nif torch.cuda.is_available():\n    map_location = None\ntorch_model.load_state_dict(model_zoo.load_url(model_url, map_location=map_location))\n\n# set the model to inference mode\ntorch_model.eval()"
      ]
    },
    {
      "cell_type": "markdown",
      "metadata": {},
      "source": [
        "Exporting a model in PyTorch works via tracing or scripting. This\ntutorial will use as an example a model exported by tracing. \nTo export a model, we call the ``torch.onnx.export()`` function.\nThis will execute the model, recording a trace of what operators\nare used to compute the outputs.\nBecause ``export`` runs the model, we need to provide an input\ntensor ``x``. The values in this can be random as long as it is the\nright type and size.\nNote that the input size will be fixed in the exported ONNX graph for\nall the input's dimensions, unless specified as a dynamic axes.\nIn this example we export the model with an input of batch_size 1,\nbut then specify the first dimension as dynamic in the ``dynamic_axes``\nparameter in ``torch.onnx.export()``. \nThe exported model will thus accept inputs of size [batch_size, 1, 224, 224]\nwhere batch_size can be variable. \n\nTo learn more details about PyTorch's export interface, check out the\n`torch.onnx documentation <https://pytorch.org/docs/master/onnx.html>`__.\n\n\n"
      ]
    },
    {
      "cell_type": "code",
      "execution_count": null,
      "metadata": {
        "collapsed": false
      },
      "outputs": [],
      "source": [
        "# Input to the model\nx = torch.randn(batch_size, 1, 224, 224, requires_grad=True)\ntorch_out = torch_model(x)\n\n# Export the model\ntorch.onnx.export(torch_model,               # model being run\n                  x,                         # model input (or a tuple for multiple inputs)\n                  \"super_resolution.onnx\",   # where to save the model (can be a file or file-like object)\n                  export_params=True,        # store the trained parameter weights inside the model file\n                  opset_version=10,          # the onnx version to export the model to\n                  do_constant_folding=True,  # wether to execute constant folding for optimization\n                  input_names = ['input'],   # the model's input names\n                  output_names = ['output'], # the model's output names\n                  dynamic_axes={'input' : {0 : 'batch_size'},    # variable lenght axes\n                                'output' : {0 : 'batch_size'}})"
      ]
    },
    {
      "cell_type": "markdown",
      "metadata": {},
      "source": [
        "We also computed ``torch_out``, the output after of the model,\nwhich we will use to verify that the model we exported computes\nthe same values when run in onnxruntime.\n\nBut before verifying the model's output with onnxruntime, we will check\nthe onnx model with onnx's API.\nFirst, ``onnx.load(\"super_resolution.onnx\")`` will load the saved model and\nwill output a onnx.ModelProto structure (a top-level file/container format for bundling a ML model.\nFor more information `onnx.proto documentation <https://github.com/onnx/onnx/blob/master/onnx/onnx.proto>`__.).\nThen, ``onnx.checker.check_model(onnx_model)`` will verify the model's structure\nand confirm that the model has a valid schema.\nThe validity of the ONNX graph is verified by checking the model's\nversion, the graph's structure, as well as the nodes and their inputs\nand outputs.\n\n\n"
      ]
    },
    {
      "cell_type": "code",
      "execution_count": null,
      "metadata": {
        "collapsed": false
      },
      "outputs": [],
      "source": [
        "import onnx\n\nonnx_model = onnx.load(\"super_resolution.onnx\")\nonnx.checker.check_model(onnx_model)"
      ]
    },
    {
      "cell_type": "markdown",
      "metadata": {},
      "source": [
        "Now let's compute the output using ONNXRuntime's Python APIs.\nThis part can normally be done in a separate process or on another\nmachine, but we will continue in the same process so that we can\nverify that onnxruntime and PyTorch are computing the same value\nfor the network.\n\nIn order to run the model with ONNXRuntime, we need to create an\ninference session for the model with the chosen configuration\nparameters (here we use the default config).\nOnce the session is created, we evaluate the model using the run() api.\nThe output of this call is a list containing the outputs of the model\ncomputed by ONNXRuntime. \n\n\n"
      ]
    },
    {
      "cell_type": "code",
      "execution_count": null,
      "metadata": {
        "collapsed": false
      },
      "outputs": [],
      "source": [
        "import onnxruntime\n\nort_session = onnxruntime.InferenceSession(\"super_resolution.onnx\")\n\ndef to_numpy(tensor):\n    return tensor.detach().cpu().numpy() if tensor.requires_grad else tensor.cpu().numpy()\n\n# compute onnxruntime output prediction\nort_inputs = {ort_session.get_inputs()[0].name: to_numpy(x)}\nort_outs = ort_session.run(None, ort_inputs)\n\n# compare onnxruntime and PyTorch results\nnp.testing.assert_allclose(to_numpy(torch_out), ort_outs[0], rtol=1e-03, atol=1e-05)\n\nprint(\"Exported model has been tested with ONNXRuntime, and the result looks good!\")"
      ]
    },
    {
      "cell_type": "markdown",
      "metadata": {},
      "source": [
        "We should see that the output of PyTorch and onnxruntime runs match\nnumerically with the given precision (rtol=1e-03 and atol=1e-05).\nAs a side-note, if they do not match then there is an issue in the\nonnx exporter, so please contact us in that case.\n\n\n"
      ]
    },
    {
      "cell_type": "markdown",
      "metadata": {},
      "source": [
        "Running the model on an image using ONNXRuntime\n~~~~~~~~~~~~~~~~~~~~~~~~~~~~~~~~~~~~~~~~~~~~~~~\n\n\n"
      ]
    },
    {
      "cell_type": "markdown",
      "metadata": {},
      "source": [
        "So far we have exported a model from PyTorch and shown how to load it\nand run it in onnxruntime with a dummy tensor as an input.\n\n"
      ]
    },
    {
      "cell_type": "markdown",
      "metadata": {},
      "source": [
        "For this tutorial, we will use a famous cat image used widely which\nlooks like below\n\n.. figure:: /_static/img/cat_224x224.jpg\n   :alt: cat\n\n\n"
      ]
    },
    {
      "cell_type": "markdown",
      "metadata": {},
      "source": [
        "First, let's load the image, pre-process it using standard PIL\npython library. Note that this preprocessing is the standard practice of\nprocessing data for training/testing neural networks.\n\nWe first resize the image to fit the size of the model's input (224x224).\nThen we split the image into its Y, Cb, and Cr components.\nThese components represent a greyscale image (Y), and\nthe blue-difference (Cb) and red-difference (Cr) chroma components.\nThe Y component being more sensitive to the human eye, we are \ninterested in this component which we will be transforming.\nAfter extracting the Y component, we convert it to a tensor which\nwill be the input of our model.\n\n\n"
      ]
    },
    {
      "cell_type": "code",
      "execution_count": null,
      "metadata": {
        "collapsed": false
      },
      "outputs": [],
      "source": [
        "from PIL import Image\nimport torchvision.transforms as transforms\n\nimg = Image.open(\"./_static/img/cat.jpg\")\n\nresize = transforms.Resize([224, 224])\nimg = resize(img)\n\nimg_ycbcr = img.convert('YCbCr')\nimg_y, img_cb, img_cr = img_ycbcr.split()\n\nto_tensor = transforms.ToTensor()\nimg_y = to_tensor(img_y)\nimg_y.unsqueeze_(0)"
      ]
    },
    {
      "cell_type": "markdown",
      "metadata": {},
      "source": [
        "Now, as a next step, let's take the tensor representing the\ngreyscale resized cat image and run the super-resolution model in\nONNXRuntime as explained previously.\n\n\n"
      ]
    },
    {
      "cell_type": "code",
      "execution_count": null,
      "metadata": {
        "collapsed": false
      },
      "outputs": [],
      "source": [
        "ort_inputs = {ort_session.get_inputs()[0].name: to_numpy(img_y)}\nort_outs = ort_session.run(None, ort_inputs)\nimg_out_y = ort_outs[0]"
      ]
    },
    {
      "cell_type": "markdown",
      "metadata": {},
      "source": [
        "At this point, the output of the model is a tensor.\nNow, we'll process the output of the model to construct back the\nfinal output image from the output tensor, and save the image.\nThe post-processing steps have been adopted from PyTorch\nimplementation of super-resolution model\n`here <https://github.com/pytorch/examples/blob/master/super_resolution/super_resolve.py>`__.\n\n\n"
      ]
    },
    {
      "cell_type": "code",
      "execution_count": null,
      "metadata": {
        "collapsed": false
      },
      "outputs": [],
      "source": [
        "img_out_y = Image.fromarray(np.uint8((img_out_y[0] * 255.0).clip(0, 255)[0]), mode='L')\n\n# get the output image follow post-processing step from PyTorch implementation\nfinal_img = Image.merge(\n    \"YCbCr\", [\n        img_out_y,\n        img_cb.resize(img_out_y.size, Image.BICUBIC),\n        img_cr.resize(img_out_y.size, Image.BICUBIC),\n    ]).convert(\"RGB\")\n\n# Save the image, we will compare this with the output image from mobile device\nfinal_img.save(\"./_static/img/cat_superres_with_ort.jpg\")"
      ]
    },
    {
      "cell_type": "markdown",
      "metadata": {},
      "source": [
        ".. figure:: /_static/img/cat_superres_with_ort.jpg\n   :alt: output\\_cat\n\n\nONNXRuntime being a cross platform engine, you can run it across\nmultiple platforms and on both CPUs and GPUs.\n\nONNXRuntime can also be deployed to the cloud for model inferencing\nusing Azure Machine Learning Services. More information `here <https://docs.microsoft.com/en-us/azure/machine-learning/service/concept-onnx>`__.\n\nMore information about ONNXRuntime's performance `here <https://github.com/microsoft/onnxruntime#high-performance>`__.\n\n\nFor more information about ONNXRuntime `here <https://github.com/microsoft/onnxruntime>`__.\n\n\n"
      ]
    }
  ],
  "metadata": {
    "kernelspec": {
      "display_name": "Python 3",
      "language": "python",
      "name": "python3"
    },
    "language_info": {
      "codemirror_mode": {
        "name": "ipython",
        "version": 3
      },
      "file_extension": ".py",
      "mimetype": "text/x-python",
      "name": "python",
      "nbconvert_exporter": "python",
      "pygments_lexer": "ipython3",
      "version": "3.6.8"
    }
  },
  "nbformat": 4,
  "nbformat_minor": 0
}