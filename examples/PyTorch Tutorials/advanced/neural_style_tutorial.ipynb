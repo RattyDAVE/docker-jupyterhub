{
  "cells": [
    {
      "metadata": {
        "trusted": false
      },
      "cell_type": "code",
      "source": "%matplotlib inline",
      "execution_count": null,
      "outputs": []
    },
    {
      "metadata": {},
      "cell_type": "markdown",
      "source": "\nNeural Transfer Using PyTorch\n=============================\n\n\n**Author**: `Alexis Jacq <https://alexis-jacq.github.io>`_\n \n**Edited by**: `Winston Herring <https://github.com/winston6>`_\n\nIntroduction\n------------\n\nThis tutorial explains how to implement the `Neural-Style algorithm <https://arxiv.org/abs/1508.06576>`__\ndeveloped by Leon A. Gatys, Alexander S. Ecker and Matthias Bethge.\nNeural-Style, or Neural-Transfer, allows you to take an image and\nreproduce it with a new artistic style. The algorithm takes three images,\nan input image, a content-image, and a style-image, and changes the input \nto resemble the content of the content-image and the artistic style of the style-image.\n\n \n.. figure:: /_static/img/neural-style/neuralstyle.png\n   :alt: content1\n\n"
    },
    {
      "metadata": {},
      "cell_type": "markdown",
      "source": "Underlying Principle\n--------------------\n\nThe principle is simple: we define two distances, one for the content\n($D_C$) and one for the style ($D_S$). $D_C$ measures how different the content\nis between two images while $D_S$ measures how different the style is\nbetween two images. Then, we take a third image, the input, and\ntransform it to minimize both its content-distance with the\ncontent-image and its style-distance with the style-image. Now we can\nimport the necessary packages and begin the neural transfer.\n\nImporting Packages and Selecting a Device\n-----------------------------------------\nBelow is a  list of the packages needed to implement the neural transfer.\n\n-  ``torch``, ``torch.nn``, ``numpy`` (indispensables packages for\n   neural networks with PyTorch)\n-  ``torch.optim`` (efficient gradient descents)\n-  ``PIL``, ``PIL.Image``, ``matplotlib.pyplot`` (load and display\n   images)\n-  ``torchvision.transforms`` (transform PIL images into tensors)\n-  ``torchvision.models`` (train or load pre-trained models)\n-  ``copy`` (to deep copy the models; system package)\n\n"
    },
    {
      "metadata": {
        "trusted": false
      },
      "cell_type": "code",
      "source": "from __future__ import print_function\n\nimport torch\nimport torch.nn as nn\nimport torch.nn.functional as F\nimport torch.optim as optim\n\nfrom PIL import Image\nimport matplotlib.pyplot as plt\n\nimport torchvision.transforms as transforms\nimport torchvision.models as models\n\nimport copy",
      "execution_count": null,
      "outputs": []
    },
    {
      "metadata": {},
      "cell_type": "markdown",
      "source": "Next, we need to choose which device to run the network on and import the\ncontent and style images. Running the neural transfer algorithm on large\nimages takes longer and will go much faster when running on a GPU. We can\nuse ``torch.cuda.is_available()`` to detect if there is a GPU available.\nNext, we set the ``torch.device`` for use throughout the tutorial. Also the ``.to(device)``\nmethod is used to move tensors or modules to a desired device. \n\n"
    },
    {
      "metadata": {
        "trusted": false
      },
      "cell_type": "code",
      "source": "device = torch.device(\"cuda\" if torch.cuda.is_available() else \"cpu\")",
      "execution_count": null,
      "outputs": []
    },
    {
      "metadata": {},
      "cell_type": "markdown",
      "source": "Loading the Images\n------------------\n\nNow we will import the style and content images. The original PIL images have values between 0 and 255, but when\ntransformed into torch tensors, their values are converted to be between\n0 and 1. The images also need to be resized to have the same dimensions.\nAn important detail to note is that neural networks from the\ntorch library are trained with tensor values ranging from 0 to 1. If you\ntry to feed the networks with 0 to 255 tensor images, then the activated\nfeature maps will be unable sense the intended content and style.\nHowever, pre-trained networks from the Caffe library are trained with 0\nto 255 tensor images. \n\n\n.. Note::\n    Here are links to download the images required to run the tutorial:\n    `picasso.jpg <http://pytorch.org/tutorials/_static/img/neural-style/picasso.jpg>`__ and\n    `dancing.jpg <http://pytorch.org/tutorials/_static/img/neural-style/dancing.jpg>`__.\n    Download these two images and add them to a directory\n    with name ``images`` in your current working directory.\n\n"
    },
    {
      "metadata": {
        "trusted": false
      },
      "cell_type": "code",
      "source": "# desired size of the output image\nimsize = 512 if torch.cuda.is_available() else 128  # use small size if no gpu\n\nloader = transforms.Compose([\n    transforms.Resize(imsize),  # scale imported image\n    transforms.ToTensor()])  # transform it into a torch tensor\n\n\ndef image_loader(image_name):\n    image = Image.open(image_name)\n    # fake batch dimension required to fit network's input dimensions\n    image = loader(image).unsqueeze(0)\n    return image.to(device, torch.float)\n\n\nstyle_img = image_loader(\"./images/picasso.jpg\")\ncontent_img = image_loader(\"./images/dancing.jpg\")\n\nassert style_img.size() == content_img.size(), \\\n    \"we need to import style and content images of the same size\"",
      "execution_count": null,
      "outputs": []
    },
    {
      "metadata": {},
      "cell_type": "markdown",
      "source": "Now, let's create a function that displays an image by reconverting a \ncopy of it to PIL format and displaying the copy using \n``plt.imshow``. We will try displaying the content and style images \nto ensure they were imported correctly.\n\n"
    },
    {
      "metadata": {
        "trusted": false
      },
      "cell_type": "code",
      "source": "unloader = transforms.ToPILImage()  # reconvert into PIL image\n\nplt.ion()\n\ndef imshow(tensor, title=None):\n    image = tensor.cpu().clone()  # we clone the tensor to not do changes on it\n    image = image.squeeze(0)      # remove the fake batch dimension\n    image = unloader(image)\n    plt.imshow(image)\n    if title is not None:\n        plt.title(title)\n    plt.pause(0.001) # pause a bit so that plots are updated\n\n\nplt.figure()\nimshow(style_img, title='Style Image')\n\nplt.figure()\nimshow(content_img, title='Content Image')",
      "execution_count": null,
      "outputs": []
    },
    {
      "metadata": {},
      "cell_type": "markdown",
      "source": "Loss Functions\n--------------\nContent Loss\n~~~~~~~~~~~~\n\nThe content loss is a function that represents a weighted version of the\ncontent distance for an individual layer. The function takes the feature\nmaps $F_{XL}$ of a layer $L$ in a network processing input $X$ and returns the\nweighted content distance $w_{CL}.D_C^L(X,C)$ between the image $X$ and the\ncontent image $C$. The feature maps of the content image($F_{CL}$) must be\nknown by the function in order to calculate the content distance. We\nimplement this function as a torch module with a constructor that takes\n$F_{CL}$ as an input. The distance $\\|F_{XL} - F_{CL}\\|^2$ is the mean square error\nbetween the two sets of feature maps, and can be computed using ``nn.MSELoss``.\n\nWe will add this content loss module directly after the convolution\nlayer(s) that are being used to compute the content distance. This way\neach time the network is fed an input image the content losses will be\ncomputed at the desired layers and because of auto grad, all the\ngradients will be computed. Now, in order to make the content loss layer\ntransparent we must define a ``forward`` method that computes the content\nloss and then returns the layer’s input. The computed loss is saved as a\nparameter of the module.\n\n\n"
    },
    {
      "metadata": {
        "trusted": false
      },
      "cell_type": "code",
      "source": "class ContentLoss(nn.Module):\n\n    def __init__(self, target,):\n        super(ContentLoss, self).__init__()\n        # we 'detach' the target content from the tree used\n        # to dynamically compute the gradient: this is a stated value,\n        # not a variable. Otherwise the forward method of the criterion\n        # will throw an error.\n        self.target = target.detach()\n\n    def forward(self, input):\n        self.loss = F.mse_loss(input, self.target)\n        return input",
      "execution_count": null,
      "outputs": []
    },
    {
      "metadata": {},
      "cell_type": "markdown",
      "source": ".. Note::\n   **Important detail**: although this module is named ``ContentLoss``, it\n   is not a true PyTorch Loss function. If you want to define your content\n   loss as a PyTorch Loss function, you have to create a PyTorch autograd function \n   to recompute/implement the gradient manually in the ``backward``\n   method.\n\n"
    },
    {
      "metadata": {},
      "cell_type": "markdown",
      "source": "Style Loss\n~~~~~~~~~~\n\nThe style loss module is implemented similarly to the content loss\nmodule. It will act as a transparent layer in a\nnetwork that computes the style loss of that layer. In order to\ncalculate the style loss, we need to compute the gram matrix $G_{XL}$. A gram\nmatrix is the result of multiplying a given matrix by its transposed\nmatrix. In this application the given matrix is a reshaped version of\nthe feature maps $F_{XL}$ of a layer $L$. $F_{XL}$ is reshaped to form $\\hat{F}_{XL}$, a $K$\\ x\\ $N$\nmatrix, where $K$ is the number of feature maps at layer $L$ and $N$ is the\nlength of any vectorized feature map $F_{XL}^k$. For example, the first line\nof $\\hat{F}_{XL}$ corresponds to the first vectorized feature map $F_{XL}^1$.\n\nFinally, the gram matrix must be normalized by dividing each element by\nthe total number of elements in the matrix. This normalization is to\ncounteract the fact that $\\hat{F}_{XL}$ matrices with a large $N$ dimension yield\nlarger values in the Gram matrix. These larger values will cause the\nfirst layers (before pooling layers) to have a larger impact during the\ngradient descent. Style features tend to be in the deeper layers of the\nnetwork so this normalization step is crucial.\n\n\n"
    },
    {
      "metadata": {
        "trusted": false
      },
      "cell_type": "code",
      "source": "def gram_matrix(input):\n    a, b, c, d = input.size()  # a=batch size(=1)\n    # b=number of feature maps\n    # (c,d)=dimensions of a f. map (N=c*d)\n\n    features = input.view(a * b, c * d)  # resise F_XL into \\hat F_XL\n\n    G = torch.mm(features, features.t())  # compute the gram product\n\n    # we 'normalize' the values of the gram matrix\n    # by dividing by the number of element in each feature maps.\n    return G.div(a * b * c * d)",
      "execution_count": null,
      "outputs": []
    },
    {
      "metadata": {},
      "cell_type": "markdown",
      "source": "Now the style loss module looks almost exactly like the content loss\nmodule. The style distance is also computed using the mean square\nerror between $G_{XL}$ and $G_{SL}$.\n\n\n"
    },
    {
      "metadata": {
        "trusted": false
      },
      "cell_type": "code",
      "source": "class StyleLoss(nn.Module):\n\n    def __init__(self, target_feature):\n        super(StyleLoss, self).__init__()\n        self.target = gram_matrix(target_feature).detach()\n\n    def forward(self, input):\n        G = gram_matrix(input)\n        self.loss = F.mse_loss(G, self.target)\n        return input",
      "execution_count": null,
      "outputs": []
    },
    {
      "metadata": {},
      "cell_type": "markdown",
      "source": "Importing the Model\n-------------------\n\nNow we need to import a pre-trained neural network. We will use a 19\nlayer VGG network like the one used in the paper.\n\nPyTorch’s implementation of VGG is a module divided into two child\n``Sequential`` modules: ``features`` (containing convolution and pooling layers),\nand ``classifier`` (containing fully connected layers). We will use the\n``features`` module because we need the output of the individual\nconvolution layers to measure content and style loss. Some layers have\ndifferent behavior during training than evaluation, so we must set the\nnetwork to evaluation mode using ``.eval()``.\n\n\n"
    },
    {
      "metadata": {
        "trusted": false
      },
      "cell_type": "code",
      "source": "cnn = models.vgg19(pretrained=True).features.to(device).eval()",
      "execution_count": null,
      "outputs": []
    },
    {
      "metadata": {},
      "cell_type": "markdown",
      "source": "Additionally, VGG networks are trained on images with each channel\nnormalized by mean=[0.485, 0.456, 0.406] and std=[0.229, 0.224, 0.225].\nWe will use them to normalize the image before sending it into the network.\n\n\n"
    },
    {
      "metadata": {
        "trusted": false
      },
      "cell_type": "code",
      "source": "cnn_normalization_mean = torch.tensor([0.485, 0.456, 0.406]).to(device)\ncnn_normalization_std = torch.tensor([0.229, 0.224, 0.225]).to(device)\n\n# create a module to normalize input image so we can easily put it in a\n# nn.Sequential\nclass Normalization(nn.Module):\n    def __init__(self, mean, std):\n        super(Normalization, self).__init__()\n        # .view the mean and std to make them [C x 1 x 1] so that they can\n        # directly work with image Tensor of shape [B x C x H x W].\n        # B is batch size. C is number of channels. H is height and W is width.\n        self.mean = torch.tensor(mean).view(-1, 1, 1)\n        self.std = torch.tensor(std).view(-1, 1, 1)\n\n    def forward(self, img):\n        # normalize img\n        return (img - self.mean) / self.std",
      "execution_count": null,
      "outputs": []
    },
    {
      "metadata": {},
      "cell_type": "markdown",
      "source": "A ``Sequential`` module contains an ordered list of child modules. For\ninstance, ``vgg19.features`` contains a sequence (Conv2d, ReLU, MaxPool2d,\nConv2d, ReLU…) aligned in the right order of depth. We need to add our\ncontent loss and style loss layers immediately after the convolution\nlayer they are detecting. To do this we must create a new ``Sequential``\nmodule that has content loss and style loss modules correctly inserted.\n\n\n"
    },
    {
      "metadata": {
        "trusted": false
      },
      "cell_type": "code",
      "source": "# desired depth layers to compute style/content losses :\ncontent_layers_default = ['conv_4']\nstyle_layers_default = ['conv_1', 'conv_2', 'conv_3', 'conv_4', 'conv_5']\n\ndef get_style_model_and_losses(cnn, normalization_mean, normalization_std,\n                               style_img, content_img,\n                               content_layers=content_layers_default,\n                               style_layers=style_layers_default):\n    cnn = copy.deepcopy(cnn)\n\n    # normalization module\n    normalization = Normalization(normalization_mean, normalization_std).to(device)\n\n    # just in order to have an iterable access to or list of content/syle\n    # losses\n    content_losses = []\n    style_losses = []\n\n    # assuming that cnn is a nn.Sequential, so we make a new nn.Sequential\n    # to put in modules that are supposed to be activated sequentially\n    model = nn.Sequential(normalization)\n\n    i = 0  # increment every time we see a conv\n    for layer in cnn.children():\n        if isinstance(layer, nn.Conv2d):\n            i += 1\n            name = 'conv_{}'.format(i)\n        elif isinstance(layer, nn.ReLU):\n            name = 'relu_{}'.format(i)\n            # The in-place version doesn't play very nicely with the ContentLoss\n            # and StyleLoss we insert below. So we replace with out-of-place\n            # ones here.\n            layer = nn.ReLU(inplace=False)\n        elif isinstance(layer, nn.MaxPool2d):\n            name = 'pool_{}'.format(i)\n        elif isinstance(layer, nn.BatchNorm2d):\n            name = 'bn_{}'.format(i)\n        else:\n            raise RuntimeError('Unrecognized layer: {}'.format(layer.__class__.__name__))\n\n        model.add_module(name, layer)\n\n        if name in content_layers:\n            # add content loss:\n            target = model(content_img).detach()\n            content_loss = ContentLoss(target)\n            model.add_module(\"content_loss_{}\".format(i), content_loss)\n            content_losses.append(content_loss)\n\n        if name in style_layers:\n            # add style loss:\n            target_feature = model(style_img).detach()\n            style_loss = StyleLoss(target_feature)\n            model.add_module(\"style_loss_{}\".format(i), style_loss)\n            style_losses.append(style_loss)\n\n    # now we trim off the layers after the last content and style losses\n    for i in range(len(model) - 1, -1, -1):\n        if isinstance(model[i], ContentLoss) or isinstance(model[i], StyleLoss):\n            break\n\n    model = model[:(i + 1)]\n\n    return model, style_losses, content_losses",
      "execution_count": null,
      "outputs": []
    },
    {
      "metadata": {},
      "cell_type": "markdown",
      "source": "Next, we select the input image. You can use a copy of the content image\nor white noise.\n\n\n"
    },
    {
      "metadata": {
        "trusted": false
      },
      "cell_type": "code",
      "source": "input_img = content_img.clone()\n# if you want to use white noise instead uncomment the below line:\n# input_img = torch.randn(content_img.data.size(), device=device)\n\n# add the original input image to the figure:\nplt.figure()\nimshow(input_img, title='Input Image')",
      "execution_count": null,
      "outputs": []
    },
    {
      "metadata": {},
      "cell_type": "markdown",
      "source": "Gradient Descent\n----------------\n\nAs Leon Gatys, the author of the algorithm, suggested `here <https://discuss.pytorch.org/t/pytorch-tutorial-for-neural-transfert-of-artistic-style/336/20?u=alexis-jacq>`__, we will use\nL-BFGS algorithm to run our gradient descent. Unlike training a network,\nwe want to train the input image in order to minimise the content/style\nlosses. We will create a PyTorch L-BFGS optimizer ``optim.LBFGS`` and pass\nour image to it as the tensor to optimize.\n\n\n"
    },
    {
      "metadata": {
        "trusted": false
      },
      "cell_type": "code",
      "source": "def get_input_optimizer(input_img):\n    # this line to show that input is a parameter that requires a gradient\n    optimizer = optim.LBFGS([input_img.requires_grad_()])\n    return optimizer",
      "execution_count": null,
      "outputs": []
    },
    {
      "metadata": {},
      "cell_type": "markdown",
      "source": "Finally, we must define a function that performs the neural transfer. For\neach iteration of the networks, it is fed an updated input and computes\nnew losses. We will run the ``backward`` methods of each loss module to\ndynamicaly compute their gradients. The optimizer requires a “closure”\nfunction, which reevaluates the modul and returns the loss.\n\nWe still have one final constraint to address. The network may try to\noptimize the input with values that exceed the 0 to 1 tensor range for\nthe image. We can address this by correcting the input values to be\nbetween 0 to 1 each time the network is run.\n\n\n"
    },
    {
      "metadata": {
        "trusted": false
      },
      "cell_type": "code",
      "source": "def run_style_transfer(cnn, normalization_mean, normalization_std,\n                       content_img, style_img, input_img, num_steps=300,\n                       style_weight=1000000, content_weight=1):\n    \"\"\"Run the style transfer.\"\"\"\n    print('Building the style transfer model..')\n    model, style_losses, content_losses = get_style_model_and_losses(cnn,\n        normalization_mean, normalization_std, style_img, content_img)\n    optimizer = get_input_optimizer(input_img)\n\n    print('Optimizing..')\n    run = [0]\n    while run[0] <= num_steps:\n\n        def closure():\n            # correct the values of updated input image\n            input_img.data.clamp_(0, 1)\n\n            optimizer.zero_grad()\n            model(input_img)\n            style_score = 0\n            content_score = 0\n\n            for sl in style_losses:\n                style_score += sl.loss\n            for cl in content_losses:\n                content_score += cl.loss\n\n            style_score *= style_weight\n            content_score *= content_weight\n\n            loss = style_score + content_score\n            loss.backward()\n\n            run[0] += 1\n            if run[0] % 50 == 0:\n                print(\"run {}:\".format(run))\n                print('Style Loss : {:4f} Content Loss: {:4f}'.format(\n                    style_score.item(), content_score.item()))\n                print()\n\n            return style_score + content_score\n\n        optimizer.step(closure)\n\n    # a last correction...\n    input_img.data.clamp_(0, 1)\n\n    return input_img",
      "execution_count": null,
      "outputs": []
    },
    {
      "metadata": {},
      "cell_type": "markdown",
      "source": "Finally, we can run the algorithm.\n\n\n"
    },
    {
      "metadata": {
        "trusted": false
      },
      "cell_type": "code",
      "source": "output = run_style_transfer(cnn, cnn_normalization_mean, cnn_normalization_std,\n                            content_img, style_img, input_img)\n\nplt.figure()\nimshow(output, title='Output Image')\n\n# sphinx_gallery_thumbnail_number = 4\nplt.ioff()\nplt.show()",
      "execution_count": null,
      "outputs": []
    }
  ],
  "metadata": {
    "kernelspec": {
      "name": "python3",
      "display_name": "Python 3",
      "language": "python"
    },
    "language_info": {
      "mimetype": "text/x-python",
      "nbconvert_exporter": "python",
      "name": "python",
      "pygments_lexer": "ipython3",
      "version": "3.5.4",
      "file_extension": ".py",
      "codemirror_mode": {
        "version": 3,
        "name": "ipython"
      }
    }
  },
  "nbformat": 4,
  "nbformat_minor": 1
}