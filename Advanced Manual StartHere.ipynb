{
 "cells": [
  {
   "cell_type": "markdown",
   "metadata": {},
   "source": [
    "# Welcome\n",
    "\n",
    "To populate your filesystem with the tutorials and sample code click above on the RUN ALL icon."
   ]
  },
  {
   "cell_type": "markdown",
   "metadata": {},
   "source": [
    "## BeakerX\n",
    "\n",
    "[Clojure](http://clojure.org/) is a dialect of Lisp that runs in the JVM.\n",
    "It shares with Lisp the code-as-data philosophy and a powerful macro system.\n",
    "Clojure is predominantly a functional programming language, and features a rich set of immutable, persistent data structures.\n",
    "It has strong support for reliable multithreading and concurrency.\n",
    "\n",
    "[Apache Groovy](http://groovy-lang.org/) is the language that should have been called JavaScript because it is a scripting version of Java.\n",
    "\n",
    "Java is the mother of all JVM languages, first released in 1995 after years of development by Sun Microsystems.  BeakerX uses [OpenJDK](http://openjdk.java.net/) for Java and all the kernels.\n",
    "\n",
    "[Kotlin](https://kotlinlang.org/) is a relative newcomer from [JetBrains](https://www.jetbrains.com/) and [Android](https://developer.android.com/kotlin/get-started.html).  It's intended to be an improved version of Java, including [Null Safety](https://kotlinlang.org/docs/reference/null-safety.html).\n",
    "\n",
    "[Scala](https://www.scala-lang.org/) combines the functional/type-inference paradigm and the object-oriented paradigm, and is also meant to be an improved version of Java.  Scala is the native language of [Apache Spark](Spark.ipynb).\n",
    "\n",
    "SQL (Structured Query Language) is one of the oldest and most popular languages for database access.\n",
    "BeakerX has first-class support for SQL, including syntax highlighting, autocompletion, and autotranslation to JavaScript (and more languages [coming](https://github.com/twosigma/beakerx/issues/5039)).\n",
    "\n",
    "Install the tutorals and sample code for Groovy, Scala, Clojure, Kotlin, Java, and SQL."
   ]
  },
  {
   "cell_type": "code",
   "execution_count": null,
   "metadata": {},
   "outputs": [],
   "source": [
    "!git clone https://github.com/twosigma/beakerx.git ~/examples/beakerx"
   ]
  },
  {
   "cell_type": "code",
   "execution_count": null,
   "metadata": {},
   "outputs": [],
   "source": [
    "!cp -R ~/examples/beakerx/doc/. ~/examples"
   ]
  },
  {
   "cell_type": "code",
   "execution_count": null,
   "metadata": {},
   "outputs": [],
   "source": [
    "!rm -rf ~/examples/README.md ~/examples/beakerx"
   ]
  },
  {
   "cell_type": "markdown",
   "metadata": {},
   "source": [
    "## Torch\n",
    "\n",
    "PyTorch is an open source machine learning library based on the Torch library, used for applications such as computer vision and natural language processing. It is primarily developed by Facebook's AI Research lab (FAIR).\n",
    "\n",
    "Install the FULL Torch tutorial."
   ]
  },
  {
   "cell_type": "code",
   "execution_count": null,
   "metadata": {},
   "outputs": [],
   "source": [
    "!git clone https://github.com/pytorch/tutorials.git tutorials/pytorch/build && \\\n",
    "cd tutorials/pytorch/build && \\\n",
    "sed -i s#\"sphinx-build\"#\"/home/dave/.local/bin/sphinx-build\"#i Makefile && \\\n",
    "pip install --exists-action=w --user -r requirements.txt"
   ]
  },
  {
   "cell_type": "markdown",
   "metadata": {},
   "source": [
    "In the next block of code errors will be reported. This is SAFE to ignore!"
   ]
  },
  {
   "cell_type": "code",
   "execution_count": null,
   "metadata": {},
   "outputs": [],
   "source": [
    "!cd tutorials/pytorch/build && \\\n",
    "make html-noplot"
   ]
  },
  {
   "cell_type": "code",
   "execution_count": null,
   "metadata": {},
   "outputs": [],
   "source": [
    "!cd tutorials/pytorch/build && \\\n",
    "cp beginner/beginner_jupyter.zip .. && \\\n",
    "cp intermediate/intermediate_jupyter.zip .. && \\\n",
    "cp advanced/advanced_jupyter.zip ..  && \\\n",
    "cd ..  && \\\n",
    "rm -rf build  && \\\n",
    "\\\n",
    "unzip -d beginner beginner_jupyter.zip  && \\\n",
    "rm beginner_jupyter.zip  && \\\n",
    "\\\n",
    "unzip -d intermediate intermediate_jupyter.zip  && \\\n",
    "rm intermediate_jupyter.zip && \\\n",
    "\\\n",
    "unzip -d advanced advanced_jupyter.zip  && \\\n",
    "rm advanced_jupyter.zip"
   ]
  },
  {
   "cell_type": "markdown",
   "metadata": {},
   "source": [
    "## Tensorflow\n",
    "\n",
    "TensorFlow is a free and open-source software library for dataflow and differentiable programming across a range of tasks. It is a symbolic math library, and is also used for machine learning applications such as neural networks. It is used for both research and production at Google.\n",
    "\n",
    "Install the Tensorflow tutorials"
   ]
  },
  {
   "cell_type": "code",
   "execution_count": null,
   "metadata": {},
   "outputs": [],
   "source": [
    "!mkdir -p ~/examples/tensorflow"
   ]
  },
  {
   "cell_type": "code",
   "execution_count": null,
   "metadata": {},
   "outputs": [],
   "source": [
    "!wget -O ~/examples/tensorflow/classification.ipynb https://raw.githubusercontent.com/tensorflow/docs/master/site/en/tutorials/keras/classification.ipynb\n",
    "!wget -O ~/examples/tensorflow/overfit_and_underfit.ipynb https://raw.githubusercontent.com/tensorflow/docs/master/site/en/tutorials/keras/overfit_and_underfit.ipynb\n",
    "!wget -O ~/examples/tensorflow/regression.ipynb https://raw.githubusercontent.com/tensorflow/docs/master/site/en/tutorials/keras/regression.ipynb\n",
    "!wget -O ~/examples/tensorflow/save_and_load.ipynb https://raw.githubusercontent.com/tensorflow/docs/master/site/en/tutorials/keras/save_and_load.ipynb\n",
    "!wget -O ~/examples/tensorflow/text_classification.ipynb https://raw.githubusercontent.com/tensorflow/docs/master/site/en/tutorials/keras/text_classification.ipynb\n",
    "!wget -O ~/examples/tensorflow/text_classification_with_hub.ipynb https://raw.githubusercontent.com/tensorflow/docs/master/site/en/tutorials/keras/text_classification_with_hub.ipynb"
   ]
  },
  {
   "cell_type": "markdown",
   "metadata": {},
   "source": [
    "## Julia\n",
    "\n",
    "Install a demo script for Julia."
   ]
  },
  {
   "cell_type": "code",
   "execution_count": 1,
   "metadata": {},
   "outputs": [],
   "source": [
    "!mkdir -p ~/examples/julia"
   ]
  },
  {
   "cell_type": "code",
   "execution_count": 2,
   "metadata": {},
   "outputs": [
    {
     "name": "stdout",
     "output_type": "stream",
     "text": [
      "--2020-01-09 17:51:12--  https://raw.githubusercontent.com/binder-examples/demo-julia/master/demo.ipynb\n",
      "Resolving raw.githubusercontent.com (raw.githubusercontent.com)... 151.101.60.133\n",
      "Connecting to raw.githubusercontent.com (raw.githubusercontent.com)|151.101.60.133|:443... connected.\n",
      "HTTP request sent, awaiting response... 200 OK\n",
      "Length: 10559 (10K) [text/plain]\n",
      "Saving to: ‘/home/dave/examples/julia/demo.ipynb’\n",
      "\n",
      "/home/dave/examples 100%[===================>]  10.31K  --.-KB/s    in 0.01s   \n",
      "\n",
      "2020-01-09 17:51:12 (889 KB/s) - ‘/home/dave/examples/julia/demo.ipynb’ saved [10559/10559]\n",
      "\n"
     ]
    }
   ],
   "source": [
    "!wget -O ~/examples/julia/demo.ipynb https://raw.githubusercontent.com/binder-examples/demo-julia/master/demo.ipynb"
   ]
  },
  {
   "cell_type": "markdown",
   "metadata": {},
   "source": [
    "## C++\n",
    "\n",
    "`xeus-cling` is a Jupyter kernel for C++ based on the C++ interpreter [cling](https://github.com/root-project/cling) and\n",
    "the native implementation of the Jupyter protocol [xeus](https://github.com/jupyter-xeus/xeus).\n",
    "C++ kernel with [Cling](https://cern.ch/cling) is an interpreter for C++.\n",
    "\n",
    "A full C course can be installed.\n",
    "\n",
    "Youtube video to accompany the course.\n",
    "https://www.youtube.com/playlist?list=PLGLfVvz_LVvQ9S8YSV0iDsuEU8v11yP9M"
   ]
  },
  {
   "cell_type": "code",
   "execution_count": null,
   "metadata": {},
   "outputs": [],
   "source": [
    "!git clone https://github.com/Yuanqi-Hong/cpp-learning.git ~/tutorials/C"
   ]
  }
 ],
 "metadata": {
  "kernelspec": {
   "display_name": "Python 3",
   "language": "python",
   "name": "python3"
  },
  "language_info": {
   "codemirror_mode": {
    "name": "ipython",
    "version": 3
   },
   "file_extension": ".py",
   "mimetype": "text/x-python",
   "name": "python",
   "nbconvert_exporter": "python",
   "pygments_lexer": "ipython3",
   "version": "3.7.4"
  }
 },
 "nbformat": 4,
 "nbformat_minor": 4
}
