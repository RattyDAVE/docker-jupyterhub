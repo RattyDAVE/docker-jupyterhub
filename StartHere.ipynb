{
 "cells": [
  {
   "cell_type": "markdown",
   "metadata": {},
   "source": [
    "# Welcome\n",
    "\n",
    "To populate your filesystem with the tutorials and sample code click above on the RUN ALL icon."
   ]
  },
  {
   "cell_type": "markdown",
   "metadata": {},
   "source": [
    "## BeakerX\n",
    "\n",
    "[Clojure](http://clojure.org/) is a dialect of Lisp that runs in the JVM.\n",
    "It shares with Lisp the code-as-data philosophy and a powerful macro system.\n",
    "Clojure is predominantly a functional programming language, and features a rich set of immutable, persistent data structures.\n",
    "It has strong support for reliable multithreading and concurrency.\n",
    "\n",
    "[Apache Groovy](http://groovy-lang.org/) is the language that should have been called JavaScript because it is a scripting version of Java.\n",
    "\n",
    "Java is the mother of all JVM languages, first released in 1995 after years of development by Sun Microsystems.  BeakerX uses [OpenJDK](http://openjdk.java.net/) for Java and all the kernels.\n",
    "\n",
    "[Kotlin](https://kotlinlang.org/) is a relative newcomer from [JetBrains](https://www.jetbrains.com/) and [Android](https://developer.android.com/kotlin/get-started.html).  It's intended to be an improved version of Java, including [Null Safety](https://kotlinlang.org/docs/reference/null-safety.html).\n",
    "\n",
    "[Scala](https://www.scala-lang.org/) combines the functional/type-inference paradigm and the object-oriented paradigm, and is also meant to be an improved version of Java.  Scala is the native language of [Apache Spark](Spark.ipynb).\n",
    "\n",
    "SQL (Structured Query Language) is one of the oldest and most popular languages for database access.\n",
    "BeakerX has first-class support for SQL, including syntax highlighting, autocompletion, and autotranslation to JavaScript (and more languages [coming](https://github.com/twosigma/beakerx/issues/5039)).\n",
    "\n",
    "Install the tutorals and sample code for Groovy, Scala, Clojure, Kotlin, Java, and SQL."
   ]
  },
  {
   "cell_type": "code",
   "execution_count": null,
   "metadata": {},
   "outputs": [],
   "source": [
    "!git clone https://github.com/twosigma/beakerx.git ~/examples/beakerx"
   ]
  },
  {
   "cell_type": "code",
   "execution_count": null,
   "metadata": {},
   "outputs": [],
   "source": [
    "!cp -R ~/examples/beakerx/doc/. ~/examples"
   ]
  },
  {
   "cell_type": "code",
   "execution_count": null,
   "metadata": {},
   "outputs": [],
   "source": [
    "!rm -rf ~/examples/README.md ~/examples/beakerx"
   ]
  },
  {
   "cell_type": "markdown",
   "metadata": {},
   "source": [
    "## Torch\n",
    "\n",
    "PyTorch is an open source machine learning library based on the Torch library, used for applications such as computer vision and natural language processing. It is primarily developed by Facebook's AI Research lab (FAIR).\n",
    "\n",
    "Install the FULL Torch tutorial."
   ]
  },
  {
   "cell_type": "code",
   "execution_count": 20,
   "metadata": {},
   "outputs": [
    {
     "name": "stdout",
     "output_type": "stream",
     "text": [
      "Cloning into 'tutorials/pytorch/build'...\n",
      "remote: Enumerating objects: 3, done.\u001b[K\n",
      "remote: Counting objects: 100% (3/3), done.\u001b[K\n",
      "remote: Compressing objects: 100% (3/3), done.\u001b[K\n",
      "remote: Total 28364 (delta 0), reused 0 (delta 0), pack-reused 28361\u001b[K\n",
      "Receiving objects: 100% (28364/28364), 563.09 MiB | 5.93 MiB/s, done.\n",
      "Resolving deltas: 100% (20032/20032), done.\n",
      "Requirement already satisfied: sphinx in /home/dave/.local/lib/python3.7/site-packages (from -r requirements.txt (line 3)) (2.3.0)\n",
      "Requirement already satisfied: sphinx-gallery==0.3.1 in /home/dave/.local/lib/python3.7/site-packages (from -r requirements.txt (line 4)) (0.3.1)\n",
      "Requirement already satisfied: tqdm in /home/dave/.local/lib/python3.7/site-packages (from -r requirements.txt (line 5)) (4.41.0)\n",
      "Requirement already satisfied: numpy in /usr/local/lib/python3.7/dist-packages (from -r requirements.txt (line 6)) (1.17.4)\n",
      "Requirement already satisfied: matplotlib in /usr/local/lib/python3.7/dist-packages (from -r requirements.txt (line 7)) (3.1.2)\n",
      "Requirement already satisfied: torch in /usr/local/lib/python3.7/dist-packages (from -r requirements.txt (line 8)) (1.3.1)\n",
      "Requirement already satisfied: torchvision in /usr/local/lib/python3.7/dist-packages (from -r requirements.txt (line 9)) (0.4.2)\n",
      "Requirement already satisfied: torchtext in /home/dave/.local/lib/python3.7/site-packages (from -r requirements.txt (line 10)) (0.4.0)\n",
      "Requirement already satisfied: torchaudio in /home/dave/.local/lib/python3.7/site-packages (from -r requirements.txt (line 11)) (0.3.1)\n",
      "Requirement already satisfied: PyHamcrest in /home/dave/.local/lib/python3.7/site-packages (from -r requirements.txt (line 12)) (1.9.0)\n",
      "Requirement already satisfied: bs4 in /home/dave/.local/lib/python3.7/site-packages (from -r requirements.txt (line 13)) (0.0.1)\n",
      "Requirement already satisfied: awscli==1.16.35 in /home/dave/.local/lib/python3.7/site-packages (from -r requirements.txt (line 14)) (1.16.35)\n",
      "Requirement already satisfied: flask in /home/dave/.local/lib/python3.7/site-packages (from -r requirements.txt (line 15)) (1.1.1)\n",
      "Requirement already satisfied: spacy in /home/dave/.local/lib/python3.7/site-packages (from -r requirements.txt (line 16)) (2.2.3)\n",
      "Obtaining pytorch_sphinx_theme from git+git://github.com/pytorch/pytorch_sphinx_theme.git#egg=pytorch_sphinx_theme (from -r requirements.txt (line 19))\n",
      "\u001b[33m  WARNING: Directory /home/dave/tutorials/pytorch/build/src/pytorch-sphinx-theme already exists, and is not a git clone.\u001b[0m\n",
      "\u001b[33m  WARNING: The plan is to install the git repository git://github.com/pytorch/pytorch_sphinx_theme.git\u001b[0m\n",
      "\u001b[33m  WARNING: Deleting ./src/pytorch-sphinx-theme\u001b[0m\n",
      "  Cloning git://github.com/pytorch/pytorch_sphinx_theme.git to ./src/pytorch-sphinx-theme\n",
      "  Running command git clone -q git://github.com/pytorch/pytorch_sphinx_theme.git /home/dave/tutorials/pytorch/build/src/pytorch-sphinx-theme\n",
      "Requirement already satisfied: ipython in /usr/local/lib/python3.7/dist-packages (from -r requirements.txt (line 21)) (7.10.2)\n",
      "Requirement already satisfied: pandas in /usr/local/lib/python3.7/dist-packages (from -r requirements.txt (line 24)) (0.25.3)\n",
      "Requirement already satisfied: scikit-image in /home/dave/.local/lib/python3.7/site-packages (from -r requirements.txt (line 25)) (0.16.2)\n",
      "Requirement already satisfied: pillow==4.1.1 in /home/dave/.local/lib/python3.7/site-packages (from -r requirements.txt (line 28)) (4.1.1)\n",
      "Requirement already satisfied: wget in /home/dave/.local/lib/python3.7/site-packages (from -r requirements.txt (line 29)) (3.2)\n",
      "Requirement already satisfied: sphinxcontrib-htmlhelp in /home/dave/.local/lib/python3.7/site-packages (from sphinx->-r requirements.txt (line 3)) (1.0.2)\n",
      "Requirement already satisfied: babel!=2.0,>=1.3 in /home/dave/.local/lib/python3.7/site-packages (from sphinx->-r requirements.txt (line 3)) (2.7.0)\n",
      "Requirement already satisfied: requests>=2.5.0 in /usr/local/lib/python3.7/dist-packages (from sphinx->-r requirements.txt (line 3)) (2.22.0)\n",
      "Requirement already satisfied: sphinxcontrib-qthelp in /home/dave/.local/lib/python3.7/site-packages (from sphinx->-r requirements.txt (line 3)) (1.0.2)\n",
      "Requirement already satisfied: Jinja2>=2.3 in /usr/local/lib/python3.7/dist-packages (from sphinx->-r requirements.txt (line 3)) (2.10.3)\n",
      "Requirement already satisfied: setuptools in /usr/local/lib/python3.7/dist-packages (from sphinx->-r requirements.txt (line 3)) (42.0.2)\n",
      "Requirement already satisfied: imagesize in /home/dave/.local/lib/python3.7/site-packages (from sphinx->-r requirements.txt (line 3)) (1.1.0)\n",
      "Requirement already satisfied: packaging in /usr/local/lib/python3.7/dist-packages (from sphinx->-r requirements.txt (line 3)) (19.2)\n",
      "Requirement already satisfied: sphinxcontrib-applehelp in /home/dave/.local/lib/python3.7/site-packages (from sphinx->-r requirements.txt (line 3)) (1.0.1)\n",
      "Requirement already satisfied: sphinxcontrib-serializinghtml in /home/dave/.local/lib/python3.7/site-packages (from sphinx->-r requirements.txt (line 3)) (1.1.3)\n",
      "Requirement already satisfied: Pygments>=2.0 in /usr/local/lib/python3.7/dist-packages (from sphinx->-r requirements.txt (line 3)) (2.5.2)\n",
      "Requirement already satisfied: sphinxcontrib-devhelp in /home/dave/.local/lib/python3.7/site-packages (from sphinx->-r requirements.txt (line 3)) (1.0.1)\n",
      "Requirement already satisfied: snowballstemmer>=1.1 in /usr/local/lib/python3.7/dist-packages (from sphinx->-r requirements.txt (line 3)) (2.0.0)\n",
      "Requirement already satisfied: sphinxcontrib-jsmath in /home/dave/.local/lib/python3.7/site-packages (from sphinx->-r requirements.txt (line 3)) (1.0.1)\n",
      "Requirement already satisfied: alabaster<0.8,>=0.7 in /home/dave/.local/lib/python3.7/site-packages (from sphinx->-r requirements.txt (line 3)) (0.7.12)\n",
      "Requirement already satisfied: docutils>=0.12 in /home/dave/.local/lib/python3.7/site-packages (from sphinx->-r requirements.txt (line 3)) (0.15.2)\n",
      "Requirement already satisfied: pyparsing!=2.0.4,!=2.1.2,!=2.1.6,>=2.0.1 in /usr/local/lib/python3.7/dist-packages (from matplotlib->-r requirements.txt (line 7)) (2.4.5)\n",
      "Requirement already satisfied: kiwisolver>=1.0.1 in /usr/local/lib/python3.7/dist-packages (from matplotlib->-r requirements.txt (line 7)) (1.1.0)\n",
      "Requirement already satisfied: python-dateutil>=2.1 in /usr/local/lib/python3.7/dist-packages (from matplotlib->-r requirements.txt (line 7)) (2.8.1)\n",
      "Requirement already satisfied: cycler>=0.10 in /usr/local/lib/python3.7/dist-packages (from matplotlib->-r requirements.txt (line 7)) (0.10.0)\n",
      "Requirement already satisfied: six in /usr/lib/python3/dist-packages (from torchvision->-r requirements.txt (line 9)) (1.12.0)\n",
      "Requirement already satisfied: beautifulsoup4 in /home/dave/.local/lib/python3.7/site-packages (from bs4->-r requirements.txt (line 13)) (4.8.1)\n",
      "Requirement already satisfied: colorama<=0.3.9,>=0.2.5 in /home/dave/.local/lib/python3.7/site-packages (from awscli==1.16.35->-r requirements.txt (line 14)) (0.3.9)\n",
      "Requirement already satisfied: rsa<=3.5.0,>=3.1.2 in /home/dave/.local/lib/python3.7/site-packages (from awscli==1.16.35->-r requirements.txt (line 14)) (3.4.2)\n",
      "Requirement already satisfied: PyYAML<=3.13,>=3.10 in /home/dave/.local/lib/python3.7/site-packages (from awscli==1.16.35->-r requirements.txt (line 14)) (3.13)\n",
      "Requirement already satisfied: s3transfer<0.2.0,>=0.1.12 in /home/dave/.local/lib/python3.7/site-packages (from awscli==1.16.35->-r requirements.txt (line 14)) (0.1.13)\n",
      "Requirement already satisfied: botocore==1.12.25 in /home/dave/.local/lib/python3.7/site-packages (from awscli==1.16.35->-r requirements.txt (line 14)) (1.12.25)\n",
      "Requirement already satisfied: itsdangerous>=0.24 in /home/dave/.local/lib/python3.7/site-packages (from flask->-r requirements.txt (line 15)) (1.1.0)\n",
      "Requirement already satisfied: Werkzeug>=0.15 in /usr/local/lib/python3.7/dist-packages (from flask->-r requirements.txt (line 15)) (0.16.0)\n",
      "Requirement already satisfied: click>=5.1 in /usr/local/lib/python3.7/dist-packages (from flask->-r requirements.txt (line 15)) (7.0)\n",
      "Requirement already satisfied: murmurhash<1.1.0,>=0.28.0 in /home/dave/.local/lib/python3.7/site-packages (from spacy->-r requirements.txt (line 16)) (1.0.2)\n",
      "Requirement already satisfied: catalogue<1.1.0,>=0.0.7 in /home/dave/.local/lib/python3.7/site-packages (from spacy->-r requirements.txt (line 16)) (0.0.8)\n",
      "Requirement already satisfied: preshed<3.1.0,>=3.0.2 in /home/dave/.local/lib/python3.7/site-packages (from spacy->-r requirements.txt (line 16)) (3.0.2)\n",
      "Requirement already satisfied: srsly<1.1.0,>=0.1.0 in /home/dave/.local/lib/python3.7/site-packages (from spacy->-r requirements.txt (line 16)) (0.2.0)\n",
      "Requirement already satisfied: plac<1.2.0,>=0.9.6 in /home/dave/.local/lib/python3.7/site-packages (from spacy->-r requirements.txt (line 16)) (1.1.3)\n",
      "Requirement already satisfied: thinc<7.4.0,>=7.3.0 in /home/dave/.local/lib/python3.7/site-packages (from spacy->-r requirements.txt (line 16)) (7.3.1)\n",
      "Requirement already satisfied: blis<0.5.0,>=0.4.0 in /home/dave/.local/lib/python3.7/site-packages (from spacy->-r requirements.txt (line 16)) (0.4.1)\n",
      "Requirement already satisfied: wasabi<1.1.0,>=0.4.0 in /home/dave/.local/lib/python3.7/site-packages (from spacy->-r requirements.txt (line 16)) (0.4.2)\n",
      "Requirement already satisfied: cymem<2.1.0,>=2.0.2 in /home/dave/.local/lib/python3.7/site-packages (from spacy->-r requirements.txt (line 16)) (2.0.3)\n",
      "Requirement already satisfied: jedi>=0.10 in /usr/local/lib/python3.7/dist-packages (from ipython->-r requirements.txt (line 21)) (0.15.2)\n",
      "Requirement already satisfied: traitlets>=4.2 in /usr/local/lib/python3.7/dist-packages (from ipython->-r requirements.txt (line 21)) (4.3.3)\n",
      "Requirement already satisfied: pexpect; sys_platform != \"win32\" in /usr/local/lib/python3.7/dist-packages (from ipython->-r requirements.txt (line 21)) (4.7.0)\n",
      "Requirement already satisfied: decorator in /usr/local/lib/python3.7/dist-packages (from ipython->-r requirements.txt (line 21)) (4.4.1)\n",
      "Requirement already satisfied: pickleshare in /usr/local/lib/python3.7/dist-packages (from ipython->-r requirements.txt (line 21)) (0.7.5)\n",
      "Requirement already satisfied: prompt-toolkit!=3.0.0,!=3.0.1,<3.1.0,>=2.0.0 in /usr/local/lib/python3.7/dist-packages (from ipython->-r requirements.txt (line 21)) (2.0.10)\n",
      "Requirement already satisfied: backcall in /usr/local/lib/python3.7/dist-packages (from ipython->-r requirements.txt (line 21)) (0.1.0)\n",
      "Requirement already satisfied: pytz>=2017.2 in /usr/local/lib/python3.7/dist-packages (from pandas->-r requirements.txt (line 24)) (2019.3)\n",
      "Requirement already satisfied: scipy>=0.19.0 in /usr/local/lib/python3.7/dist-packages (from scikit-image->-r requirements.txt (line 25)) (1.4.1)\n",
      "Requirement already satisfied: imageio>=2.3.0 in /home/dave/.local/lib/python3.7/site-packages (from scikit-image->-r requirements.txt (line 25)) (2.6.1)\n",
      "Requirement already satisfied: PyWavelets>=0.4.0 in /home/dave/.local/lib/python3.7/site-packages (from scikit-image->-r requirements.txt (line 25)) (1.1.1)\n",
      "Requirement already satisfied: networkx>=2.0 in /home/dave/.local/lib/python3.7/site-packages (from scikit-image->-r requirements.txt (line 25)) (2.4)\n",
      "Requirement already satisfied: olefile in /home/dave/.local/lib/python3.7/site-packages (from pillow==4.1.1->-r requirements.txt (line 28)) (0.46)\n",
      "Requirement already satisfied: idna<2.9,>=2.5 in /usr/local/lib/python3.7/dist-packages (from requests>=2.5.0->sphinx->-r requirements.txt (line 3)) (2.8)\n",
      "Requirement already satisfied: chardet<3.1.0,>=3.0.2 in /usr/local/lib/python3.7/dist-packages (from requests>=2.5.0->sphinx->-r requirements.txt (line 3)) (3.0.4)\n",
      "Requirement already satisfied: urllib3!=1.25.0,!=1.25.1,<1.26,>=1.21.1 in /usr/local/lib/python3.7/dist-packages (from requests>=2.5.0->sphinx->-r requirements.txt (line 3)) (1.25.7)\n",
      "Requirement already satisfied: certifi>=2017.4.17 in /usr/local/lib/python3.7/dist-packages (from requests>=2.5.0->sphinx->-r requirements.txt (line 3)) (2019.11.28)\n",
      "Requirement already satisfied: MarkupSafe>=0.23 in /usr/local/lib/python3.7/dist-packages (from Jinja2>=2.3->sphinx->-r requirements.txt (line 3)) (1.1.1)\n",
      "Requirement already satisfied: soupsieve>=1.2 in /home/dave/.local/lib/python3.7/site-packages (from beautifulsoup4->bs4->-r requirements.txt (line 13)) (1.9.5)\n",
      "Requirement already satisfied: pyasn1>=0.1.3 in /usr/local/lib/python3.7/dist-packages (from rsa<=3.5.0,>=3.1.2->awscli==1.16.35->-r requirements.txt (line 14)) (0.4.8)\n",
      "Requirement already satisfied: jmespath<1.0.0,>=0.7.1 in /home/dave/.local/lib/python3.7/site-packages (from botocore==1.12.25->awscli==1.16.35->-r requirements.txt (line 14)) (0.9.4)\n",
      "Requirement already satisfied: importlib-metadata>=0.20; python_version < \"3.8\" in /usr/local/lib/python3.7/dist-packages (from catalogue<1.1.0,>=0.0.7->spacy->-r requirements.txt (line 16)) (1.3.0)\n",
      "Requirement already satisfied: parso>=0.5.2 in /usr/local/lib/python3.7/dist-packages (from jedi>=0.10->ipython->-r requirements.txt (line 21)) (0.5.2)\n",
      "Requirement already satisfied: ipython-genutils in /usr/local/lib/python3.7/dist-packages (from traitlets>=4.2->ipython->-r requirements.txt (line 21)) (0.2.0)\n",
      "Requirement already satisfied: ptyprocess>=0.5 in /usr/local/lib/python3.7/dist-packages (from pexpect; sys_platform != \"win32\"->ipython->-r requirements.txt (line 21)) (0.6.0)\n",
      "Requirement already satisfied: wcwidth in /usr/local/lib/python3.7/dist-packages (from prompt-toolkit!=3.0.0,!=3.0.1,<3.1.0,>=2.0.0->ipython->-r requirements.txt (line 21)) (0.1.7)\n",
      "Requirement already satisfied: zipp>=0.5 in /usr/local/lib/python3.7/dist-packages (from importlib-metadata>=0.20; python_version < \"3.8\"->catalogue<1.1.0,>=0.0.7->spacy->-r requirements.txt (line 16)) (0.6.0)\n",
      "Requirement already satisfied: more-itertools in /usr/local/lib/python3.7/dist-packages (from zipp>=0.5->importlib-metadata>=0.20; python_version < \"3.8\"->catalogue<1.1.0,>=0.0.7->spacy->-r requirements.txt (line 16)) (8.0.2)\n",
      "Installing collected packages: pytorch-sphinx-theme\n",
      "  Found existing installation: pytorch-sphinx-theme 0.0.24\n",
      "    Uninstalling pytorch-sphinx-theme-0.0.24:\n",
      "      Successfully uninstalled pytorch-sphinx-theme-0.0.24\n",
      "  Running setup.py develop for pytorch-sphinx-theme\n",
      "Successfully installed pytorch-sphinx-theme\n"
     ]
    }
   ],
   "source": [
    "!git clone https://github.com/pytorch/tutorials.git tutorials/pytorch/build && \\\n",
    "cd tutorials/pytorch/build && \\\n",
    "sed -i s#\"sphinx-build\"#\"/home/dave/.local/bin/sphinx-build\"#i Makefile && \\\n",
    "pip install --exists-action=w --user -r requirements.txt"
   ]
  },
  {
   "cell_type": "markdown",
   "metadata": {},
   "source": [
    "In the next block of code errors will be reported. This is SAFE to ignore!"
   ]
  },
  {
   "cell_type": "code",
   "execution_count": null,
   "metadata": {},
   "outputs": [],
   "source": [
    "!cd tutorials/pytorch/build && \\\n",
    "make html-noplot"
   ]
  },
  {
   "cell_type": "code",
   "execution_count": null,
   "metadata": {},
   "outputs": [],
   "source": [
    "!cd tutorials/pytorch/build && \\\n",
    "cp beginner/beginner_jupyter.zip .. && \\\n",
    "cp intermediate/intermediate_jupyter.zip .. && \\\n",
    "cp advanced/advanced_jupyter.zip ..  && \\\n",
    "cd ..  && \\\n",
    "rm -rf build  && \\\n",
    "\\\n",
    "unzip -d beginner beginner_jupyter.zip  && \\\n",
    "rm beginner_jupyter.zip  && \\\n",
    "\\\n",
    "unzip -d intermediate intermediate_jupyter.zip  && \\\n",
    "rm intermediate_jupyter.zip && \\\n",
    "\\\n",
    "unzip -d advanced advanced_jupyter.zip  && \\\n",
    "rm advanced_jupyter.zip"
   ]
  },
  {
   "cell_type": "markdown",
   "metadata": {},
   "source": [
    "## Tensorflow\n",
    "\n",
    "TensorFlow is a free and open-source software library for dataflow and differentiable programming across a range of tasks. It is a symbolic math library, and is also used for machine learning applications such as neural networks. It is used for both research and production at Google.\n",
    "\n",
    "Install the Tensorflow tutorials"
   ]
  },
  {
   "cell_type": "code",
   "execution_count": null,
   "metadata": {},
   "outputs": [],
   "source": [
    "!mkdir -p ~/examples/tensorflow"
   ]
  },
  {
   "cell_type": "code",
   "execution_count": null,
   "metadata": {},
   "outputs": [],
   "source": [
    "!wget -O ~/examples/tensorflow/classification.ipynb https://raw.githubusercontent.com/tensorflow/docs/master/site/en/tutorials/keras/classification.ipynb\n",
    "!wget -O ~/examples/tensorflow/overfit_and_underfit.ipynb https://raw.githubusercontent.com/tensorflow/docs/master/site/en/tutorials/keras/overfit_and_underfit.ipynb\n",
    "!wget -O ~/examples/tensorflow/regression.ipynb https://raw.githubusercontent.com/tensorflow/docs/master/site/en/tutorials/keras/regression.ipynb\n",
    "!wget -O ~/examples/tensorflow/save_and_load.ipynb https://raw.githubusercontent.com/tensorflow/docs/master/site/en/tutorials/keras/save_and_load.ipynb\n",
    "!wget -O ~/examples/tensorflow/text_classification.ipynb https://raw.githubusercontent.com/tensorflow/docs/master/site/en/tutorials/keras/text_classification.ipynb\n",
    "!wget -O ~/examples/tensorflow/text_classification_with_hub.ipynb https://raw.githubusercontent.com/tensorflow/docs/master/site/en/tutorials/keras/text_classification_with_hub.ipynb"
   ]
  },
  {
   "cell_type": "markdown",
   "metadata": {},
   "source": [
    "## Julia\n",
    "\n",
    "Install a demo script for Julia."
   ]
  },
  {
   "cell_type": "code",
   "execution_count": null,
   "metadata": {},
   "outputs": [],
   "source": [
    "!mkdir -p ~/examples/julia"
   ]
  },
  {
   "cell_type": "code",
   "execution_count": null,
   "metadata": {},
   "outputs": [],
   "source": [
    "!wget -O ~/examples/julia/demo.ipynb https://raw.githubusercontent.com/binder-examples/demo-julia/master/demo.ipynb"
   ]
  },
  {
   "cell_type": "markdown",
   "metadata": {},
   "source": [
    "## C++\n",
    "\n",
    "C++ kernel with [Cling](https://cern.ch/cling) is an interpreter for C++.\n",
    "\n",
    "Install a test script for C++. "
   ]
  },
  {
   "cell_type": "code",
   "execution_count": null,
   "metadata": {},
   "outputs": [],
   "source": [
    "!mkdir -p ~/examples/C"
   ]
  },
  {
   "cell_type": "code",
   "execution_count": null,
   "metadata": {},
   "outputs": [],
   "source": [
    "!cp /usr/share/cling/Jupyter/kernel/cling.ipynb ~/examples/C"
   ]
  }
 ],
 "metadata": {
  "kernelspec": {
   "display_name": "Python 3",
   "language": "python",
   "name": "python3"
  },
  "language_info": {
   "codemirror_mode": {
    "name": "ipython",
    "version": 3
   },
   "file_extension": ".py",
   "mimetype": "text/x-python",
   "name": "python",
   "nbconvert_exporter": "python",
   "pygments_lexer": "ipython3",
   "version": "3.7.5"
  }
 },
 "nbformat": 4,
 "nbformat_minor": 4
}
